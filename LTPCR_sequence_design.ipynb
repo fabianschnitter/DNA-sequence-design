{
 "cells": [
  {
   "cell_type": "code",
   "execution_count": 1,
   "id": "4ee66ea6-2c26-4970-b65b-c49f54a08403",
   "metadata": {},
   "outputs": [],
   "source": [
    "from nupack import *\n",
    "from IPython.display import Image"
   ]
  },
  {
   "cell_type": "code",
   "execution_count": 2,
   "id": "0e495405-f38a-4fac-bcb1-3104c9a568af",
   "metadata": {},
   "outputs": [
    {
     "data": {
      "text/html": [
       "<img src=\"LTPCR_scheme\" width=\"900\" height=\"900\"/>"
      ],
      "text/plain": [
       "<IPython.core.display.Image object>"
      ]
     },
     "execution_count": 2,
     "metadata": {},
     "output_type": "execute_result"
    }
   ],
   "source": [
    "Image(url=\"LTPCR_scheme\", width=900, height=900)"
   ]
  },
  {
   "cell_type": "code",
   "execution_count": 18,
   "id": "ddbe7dc3-213f-4229-b368-2af9e8242e8d",
   "metadata": {},
   "outputs": [],
   "source": [
    "# Defining domains\n",
    "a = Domain('TCCTCCTCC', name='a') #offrate\n",
    "b = Domain('N20', name='b')\n",
    "c = Domain('N20', name='c')\n",
    "d = Domain('N10', name='d')\n",
    "e = Domain('N10', name='e')\n",
    "f = Domain('N20', name='f')\n",
    "g = Domain('N20', name='g')\n",
    "h = Domain('N16', name='h')\n",
    "i = Domain('N16', name='i')\n",
    "j = Domain('N10', name='j')\n",
    "k = Domain('N10', name='k')"
   ]
  },
  {
   "cell_type": "code",
   "execution_count": 19,
   "id": "2a967c1b-0930-4cd4-b473-2148d7d93add",
   "metadata": {},
   "outputs": [],
   "source": [
    "# Define target strands\n",
    "A = TargetStrand([h,f,d,c,a], name='left_arm')\n",
    "B = TargetStrand([i,g,e,b,~a], name='right_arm')\n",
    "C = TargetStrand([f], name='left_primer')\n",
    "D = TargetStrand([g], name='right_primer')\n",
    "E = TargetStrand([k,~a,~c], name='left_blocker')\n",
    "F = TargetStrand([j,a,~b], name='right_blocker')"
   ]
  },
  {
   "cell_type": "code",
   "execution_count": 20,
   "id": "f1bd7b46-da8c-4cf8-b594-75765c6e4053",
   "metadata": {},
   "outputs": [],
   "source": [
    "# Define complex structure of full record (left arm + right arm hybridized)\n",
    "C1 = TargetComplex([A,B], '.66(9+.66)9', name='C1') "
   ]
  },
  {
   "cell_type": "code",
   "execution_count": 21,
   "id": "4fadfeb4-8362-40e1-9936-9054091f259f",
   "metadata": {},
   "outputs": [
    {
     "data": {
      "text/plain": [
       "150"
      ]
     },
     "execution_count": 21,
     "metadata": {},
     "output_type": "execute_result"
    }
   ],
   "source": [
    "C1.nt()"
   ]
  },
  {
   "cell_type": "code",
   "execution_count": 22,
   "id": "b7ef4e29-a8fb-495e-b39e-17f5aa9b1420",
   "metadata": {},
   "outputs": [],
   "source": [
    "# Specify test tube\n",
    "t1 = TargetTube(on_targets={C1: 100e-9}, name='t1', off_targets=SetSpec(max_size=2, include=[[A,A],[B,B],[A,B]]))\n",
    "my_tubes=[t1]"
   ]
  },
  {
   "cell_type": "code",
   "execution_count": 23,
   "id": "900d900b-9ab7-429a-b1f3-7906b80d77cf",
   "metadata": {},
   "outputs": [],
   "source": [
    "# hard constraints\n",
    "div1 = Diversity(word=4, types=2, scope=[h,d,c,a,b,e,i]) # prevent AAAA, CCCC, GGGG, TTTT\n",
    "\n",
    "# soft constraints\n",
    "diff1 = EnergyMatch([f,g], energy_ref=-29) #this corresponds to Tm of ~60C for the primers\n",
    "diff2 = EnergyMatch([h,i])\n",
    "diff3 = EnergyMatch([b,c])\n",
    "ssm0 = SSM(word=3)\n",
    "ssm1 = SSM(word=4)\n",
    "ssm2 = SSM(word=5)\n",
    "ssm3 = SSM(word=6)\n",
    "pattern3 = Pattern(['A4', 'C4', 'G4', 'U4', 'M6', 'K6', 'W6', 'S6', 'R6', 'Y6'])"
   ]
  },
  {
   "cell_type": "code",
   "execution_count": 24,
   "id": "bc8b56df-87dc-48ff-a024-0baa39400d54",
   "metadata": {},
   "outputs": [],
   "source": [
    "options1 = DesignOptions(seed=0) # random seed if 0; specified seed otherwise (reproducible trial)"
   ]
  },
  {
   "cell_type": "code",
   "execution_count": 25,
   "id": "6c6b7615-fa04-49bc-8840-a811abad685f",
   "metadata": {},
   "outputs": [],
   "source": [
    "my_model = Model(material='dna', celsius=25, sodium=0.05, magnesium=0.002)"
   ]
  },
  {
   "cell_type": "code",
   "execution_count": 27,
   "id": "cf5322fe-87fb-44c9-a825-1d977690b3d9",
   "metadata": {},
   "outputs": [],
   "source": [
    "my_design = tube_design(tubes=my_tubes,\n",
    "                        hard_constraints=[div1], \n",
    "                        soft_constraints=[diff1, diff2, diff3, ssm0, ssm1, ssm2, ssm3, pattern3],\n",
    "                        defect_weights=None,\n",
    "                        options=options1,\n",
    "                        model=my_model) "
   ]
  },
  {
   "cell_type": "code",
   "execution_count": 28,
   "id": "b6002884-4777-4d80-ba9f-7f1e4dd73275",
   "metadata": {},
   "outputs": [],
   "source": [
    "my_results = my_design.run(trials=1)"
   ]
  },
  {
   "cell_type": "code",
   "execution_count": 29,
   "id": "9d95c4a4-135b-4835-9247-3c0cf566393a",
   "metadata": {},
   "outputs": [
    {
     "data": {
      "text/html": [
       "<b>Domain results</b>:\n",
       "<table border=\"1\" class=\"dataframe\">\n",
       "  <thead>\n",
       "    <tr style=\"text-align: right;\">\n",
       "      <th>Domain</th>\n",
       "      <th>Sequence</th>\n",
       "    </tr>\n",
       "  </thead>\n",
       "  <tbody>\n",
       "    <tr>\n",
       "      <td>a</td>\n",
       "      <td><pre>TCCTCCTCC</pre></td>\n",
       "    </tr>\n",
       "    <tr>\n",
       "      <td>a*</td>\n",
       "      <td><pre>GGAGGAGGA</pre></td>\n",
       "    </tr>\n",
       "    <tr>\n",
       "      <td>b</td>\n",
       "      <td><pre>ACAGCAGTGGTTTATGGGTT</pre></td>\n",
       "    </tr>\n",
       "    <tr>\n",
       "      <td>c</td>\n",
       "      <td><pre>ACCGTACTCAGACTGTTCTG</pre></td>\n",
       "    </tr>\n",
       "    <tr>\n",
       "      <td>d</td>\n",
       "      <td><pre>GCCAGGGAAT</pre></td>\n",
       "    </tr>\n",
       "    <tr>\n",
       "      <td>e</td>\n",
       "      <td><pre>GATTACTTAT</pre></td>\n",
       "    </tr>\n",
       "    <tr>\n",
       "      <td>f</td>\n",
       "      <td><pre>AACTAAGGCGAGATTTGCGG</pre></td>\n",
       "    </tr>\n",
       "    <tr>\n",
       "      <td>g</td>\n",
       "      <td><pre>GAGGTCTTTTCACGTCGGAT</pre></td>\n",
       "    </tr>\n",
       "    <tr>\n",
       "      <td>h</td>\n",
       "      <td><pre>CGAAGAGCACATTGAC</pre></td>\n",
       "    </tr>\n",
       "    <tr>\n",
       "      <td>i</td>\n",
       "      <td><pre>TTAACGCGCTACGATA</pre></td>\n",
       "    </tr>\n",
       "  </tbody>\n",
       "</table><b>Strand results</b>:\n",
       "<table border=\"1\" class=\"dataframe\">\n",
       "  <thead>\n",
       "    <tr style=\"text-align: right;\">\n",
       "      <th>Strand</th>\n",
       "      <th>Sequence</th>\n",
       "    </tr>\n",
       "  </thead>\n",
       "  <tbody>\n",
       "    <tr>\n",
       "      <td>left_arm</td>\n",
       "      <td><pre>CGAAGAGCACATTGACAACTAAGGCGAGATTTGCGGGCCAGGGAATACCGTACTCAGACTGTTCTGTCCTCCTCC</pre></td>\n",
       "    </tr>\n",
       "    <tr>\n",
       "      <td>right_arm</td>\n",
       "      <td><pre>TTAACGCGCTACGATAGAGGTCTTTTCACGTCGGATGATTACTTATACAGCAGTGGTTTATGGGTTGGAGGAGGA</pre></td>\n",
       "    </tr>\n",
       "  </tbody>\n",
       "</table><b>Objective function</b>:<table border=\"1\" class=\"dataframe\">\n",
       "  <thead>\n",
       "    <tr style=\"text-align: right;\">\n",
       "      <th>Objective type</th>\n",
       "      <th>Value</th>\n",
       "    </tr>\n",
       "  </thead>\n",
       "  <tbody>\n",
       "    <tr>\n",
       "      <td>Weighted ensemble defect</td>\n",
       "      <td>0.286</td>\n",
       "    </tr>\n",
       "    <tr>\n",
       "      <td>Soft constraints: energy difference</td>\n",
       "      <td>0.0336</td>\n",
       "    </tr>\n",
       "    <tr>\n",
       "      <td>Soft constraints: pattern</td>\n",
       "      <td>0.0704</td>\n",
       "    </tr>\n",
       "    <tr>\n",
       "      <td>Soft constraints: sequence symmetry</td>\n",
       "      <td>1.85</td>\n",
       "    </tr>\n",
       "    <tr>\n",
       "      <td>Total</td>\n",
       "      <td>2.24</td>\n",
       "    </tr>\n",
       "  </tbody>\n",
       "</table><b>Ensemble defect</b>: 0.286<br><br><b>On-target complex defects:</b><table border=\"1\" class=\"dataframe\">\n",
       "  <thead>\n",
       "    <tr style=\"text-align: right;\">\n",
       "      <th>Complex</th>\n",
       "      <th>Complex defect (nt)</th>\n",
       "      <th>Normalized complex defect</th>\n",
       "    </tr>\n",
       "  </thead>\n",
       "  <tbody>\n",
       "    <tr>\n",
       "      <td>C1</td>\n",
       "      <td>36.9</td>\n",
       "      <td>0.246</td>\n",
       "    </tr>\n",
       "  </tbody>\n",
       "</table><b>Tube defects:</b><table border=\"1\" class=\"dataframe\">\n",
       "  <thead>\n",
       "    <tr style=\"text-align: right;\">\n",
       "      <th>Tube</th>\n",
       "      <th>Tube defect (M)</th>\n",
       "      <th>Normalized tube defect</th>\n",
       "    </tr>\n",
       "  </thead>\n",
       "  <tbody>\n",
       "    <tr>\n",
       "      <td>t1</td>\n",
       "      <td>4.28e-06</td>\n",
       "      <td>0.286</td>\n",
       "    </tr>\n",
       "  </tbody>\n",
       "</table><b>Complex contributions to tube defects:</b><table border=\"1\" class=\"dataframe\">\n",
       "  <thead>\n",
       "    <tr style=\"text-align: right;\">\n",
       "      <th>Tube</th>\n",
       "      <th>On-target complex</th>\n",
       "      <th>Structural defect (M)</th>\n",
       "      <th>Concentration defect (M)</th>\n",
       "      <th>Total defect (M)</th>\n",
       "    </tr>\n",
       "  </thead>\n",
       "  <tbody>\n",
       "    <tr>\n",
       "      <td>t1</td>\n",
       "      <td>C1</td>\n",
       "      <td>3.49e-06</td>\n",
       "      <td>7.93e-07</td>\n",
       "      <td>4.28e-06</td>\n",
       "    </tr>\n",
       "  </tbody>\n",
       "</table><b>On-target complex concentrations</b>:\n",
       "<table border=\"1\" class=\"dataframe\">\n",
       "  <thead>\n",
       "    <tr style=\"text-align: right;\">\n",
       "      <th>Tube</th>\n",
       "      <th>Complex</th>\n",
       "      <th>Concentration (M)</th>\n",
       "      <th>Target concentration (M)</th>\n",
       "    </tr>\n",
       "  </thead>\n",
       "  <tbody>\n",
       "    <tr>\n",
       "      <td>t1</td>\n",
       "      <td>C1</td>\n",
       "      <td>9.47e-08</td>\n",
       "      <td>1.00e-07</td>\n",
       "    </tr>\n",
       "  </tbody>\n",
       "</table>\n",
       "\n",
       "<b>Significant off-target complex concentrations (≥ 1% max complex concentration in tube)</b>:\n",
       "<table border=\"1\" class=\"dataframe\">\n",
       "  <thead>\n",
       "    <tr style=\"text-align: right;\">\n",
       "      <th>Tube</th>\n",
       "      <th>Complex</th>\n",
       "      <th>Concentration (M)</th>\n",
       "    </tr>\n",
       "  </thead>\n",
       "  <tbody>\n",
       "    <tr>\n",
       "      <td>t1</td>\n",
       "      <td>(left_arm)</td>\n",
       "      <td>5.28e-09</td>\n",
       "    </tr>\n",
       "    <tr>\n",
       "      <td>t1</td>\n",
       "      <td>(right_arm)</td>\n",
       "      <td>5.28e-09</td>\n",
       "    </tr>\n",
       "  </tbody>\n",
       "</table>"
      ],
      "text/plain": [
       "<DesignResult: defect=0.285638>"
      ]
     },
     "execution_count": 29,
     "metadata": {},
     "output_type": "execute_result"
    }
   ],
   "source": [
    "my_results[0]"
   ]
  },
  {
   "cell_type": "code",
   "execution_count": null,
   "id": "dddb392d-b76a-49a9-9bac-709531f15964",
   "metadata": {},
   "outputs": [],
   "source": []
  }
 ],
 "metadata": {
  "kernelspec": {
   "display_name": "Python 3 (ipykernel)",
   "language": "python",
   "name": "python3"
  },
  "language_info": {
   "codemirror_mode": {
    "name": "ipython",
    "version": 3
   },
   "file_extension": ".py",
   "mimetype": "text/x-python",
   "name": "python",
   "nbconvert_exporter": "python",
   "pygments_lexer": "ipython3",
   "version": "3.10.9"
  }
 },
 "nbformat": 4,
 "nbformat_minor": 5
}
